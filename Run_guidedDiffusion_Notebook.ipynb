{
 "cells": [
  {
   "cell_type": "code",
   "execution_count": 1,
   "id": "5b63e882",
   "metadata": {},
   "outputs": [],
   "source": [
    "# import the fun\n",
    "import sys\n",
    "import numpy as np\n",
    "import math\n",
    "import matplotlib.pyplot as plt\n",
    "import torch\n",
    "import torch.nn as nn\n",
    "import torch.nn.functional as F\n",
    "import Guided_TabDiffusionTools as GTDT\n",
    "\n",
    "from sklearn.decomposition import PCA\n",
    "\n",
    "import matplotlib.pyplot as plt\n",
    "\n",
    "from HullParameterization import Hull_Parameterization as HP\n",
    "\n",
    "np.set_printoptions(suppress=True) # don't use scientific notation\n"
   ]
  },
  {
   "cell_type": "code",
   "execution_count": 2,
   "id": "38bca695",
   "metadata": {},
   "outputs": [
    {
     "name": "stdout",
     "output_type": "stream",
     "text": [
      "[-162.75035      -3.3441992    -2.4861941    -0.5535028    -0.6715196\n",
      "   -0.80750316   -3.834086  ]\n"
     ]
    }
   ],
   "source": [
    "# Load in the Data:\n",
    "\n",
    "#Step 1: Load in the data\n",
    "folder = 'HullParam_MultiObj/'\n",
    "path = './Restructured_Dataset/'\n",
    "X = np.load(path + folder +'X_num_train.npy')\n",
    "#Y = np.load(path + folder+ 'Y_MultiObj.npy')\n",
    "Y = np.load(path + folder+ 'y_train.npy')\n",
    "\n",
    "print(np.min(Y,axis=0))\n",
    "\n",
    "Cons = np.zeros((len(X),1))\n",
    "\n",
    "Y_stats = np.array([np.mean(Y,axis=0), np.std(Y,axis=0)])\n",
    "\n",
    "\n",
    "neg_folder = 'NegativeData/'\n",
    "\n",
    "X_neg = np.load(path + neg_folder +'X_negativeData.npy')\n",
    "Y_neg = np.load(path + neg_folder +'Y_negativeData.npy')\n",
    "Cons_neg = np.zeros((len(X_neg),1))+1\n",
    " #np.load(neg_path+'Con_SatisfyVec.npy')\n",
    "\n",
    "\n",
    "\n",
    "\n",
    "X_LIMITS = np.load(path+'X_LIMITS.npy')\n",
    "\n",
    "X_lower_lim = [X_LIMITS[:,0].tolist()]                   \n",
    "X_upper_lim = [X_LIMITS[:,1].tolist()]\n",
    "\n",
    "\n",
    "\n",
    "#X_set = np.concatenate((X,X_neg))\n",
    "\n",
    "Y_set = [[1],[1]] #np.concatenate((Y,Y_neg))"
   ]
  },
  {
   "cell_type": "code",
   "execution_count": 3,
   "id": "0ff6989a",
   "metadata": {},
   "outputs": [],
   "source": [
    "# Set up the file for architecting the network, diffusion parameters, and training\n",
    "\n",
    "DDPM_Dict = {\n",
    "        'xdim' : len(X[0]),             # Dimension of parametric design vector\n",
    "        'datalength': len(X),           # number of samples\n",
    "        'X_LL' : X_lower_lim,           # lower limits of parametric design vector variables\n",
    "        'X_UL' : X_upper_lim,\n",
    "        'ydim': len(Y_set[0]),          # Number of objectives\n",
    "        'cdim': len(Cons[0]),           # number of classes for classifier\n",
    "        'gamma' : 0.5,                  # weight of feasibility guidence for guided sampling\n",
    "        'lambdas': [1,1,1,1,1,1,1],     # dummy variable for performance guided sampling\n",
    "        'tdim': 128,                    # dimension of latent variable\n",
    "        'net': [1024,1024,1024,1024],   # network architecture\n",
    "        'batch_size': 1024,             # batch size\n",
    "        'Training_Epochs': 100000,      # number of training epochs\n",
    "        'Diffusion_Timesteps': 1000,    # number of diffusion timesteps\n",
    "        'lr' : 0.00025,                 # learning rate\n",
    "        'weight_decay': 0.0,            # weight decay\n",
    "        'device_name': 'cuda:0'}        # gpu device name\n",
    "\n",
    "# Set up the file for architecting the network, diffusion parameters, and training\n",
    "\n",
    "Classify_Dict = {\n",
    "        'xdim' : len(X[0]),\n",
    "        'cdim': len(Cons[0]),\n",
    "        'tdim': 128,\n",
    "        'net': [64,64,64],\n",
    "        'Training_Epochs': 150000,\n",
    "        'device_name': 'cuda:0'}\n",
    "\n",
    "\n",
    "#Regression model Dict\n",
    "Reg_Dict = {\n",
    "        'xdim' : len(X[0]),                     # Dimension of parametric design vector\n",
    "        'ydim': 1,                              # trains regression model for each objective\n",
    "        'tdim': 256,                            # dimension of latent variable\n",
    "        'net': [256,256],                       # network architecture        \n",
    "        'Training_Epochs': 10000,               # number of training epochs\n",
    "        'num_regressors': 7,                    # number of regressors to train\n",
    "        'Model_Labels': ['Regressor_Cw',        # labels for regressors\n",
    "                        'Regressor_SA_050',\n",
    "                        'Regressor_SA_100',\n",
    "                        'Regressor_Vol_050',\n",
    "                        'Regressor_Vol_100',\n",
    "                        'Regressor_MaxBox_Volume',\n",
    "                        'Regressor_GaussianCurvature'],\n",
    "        'lr' : 0.001,                          # learning rate\n",
    "        'weight_decay': 0.0,                   # weight decay\n",
    "        'device_name': 'cuda:0'}               # gpu device name\n",
    "\n",
    "\n",
    "T = GTDT.GuidedDiffusionEnv(DDPM_Dict,\n",
    "                Classify_Dict,\n",
    "                Reg_Dict,\n",
    "                X=X,\n",
    "                Y=Y,\n",
    "                Cons = Cons,\n",
    "                X_neg=X_neg,\n",
    "                Cons_neg=Cons_neg)"
   ]
  },
  {
   "cell_type": "code",
   "execution_count": 4,
   "id": "08f4b525",
   "metadata": {},
   "outputs": [
    {
     "name": "stdout",
     "output_type": "stream",
     "text": [
      "Classifier Model Training...\n"
     ]
    },
    {
     "name": "stderr",
     "output_type": "stream",
     "text": [
      "100%|██████████| 150000/150000 [01:18<00:00, 1901.91it/s]"
     ]
    },
    {
     "name": "stdout",
     "output_type": "stream",
     "text": [
      "F1 score: 0.9987129987129987\n",
      "Classifier Training Complete!\n"
     ]
    },
    {
     "name": "stderr",
     "output_type": "stream",
     "text": [
      "\n"
     ]
    },
    {
     "data": {
      "text/plain": [
       "\"\\nclassifier_path = '' \\n\\nT.load_trained_classifier_model(classifier_path)\\n\""
      ]
     },
     "execution_count": 4,
     "metadata": {},
     "output_type": "execute_result"
    }
   ],
   "source": [
    "'''\n",
    "===================================================\n",
    "train classifier\n",
    "==================================================\n",
    "'''\n",
    "\n",
    "T.run_train_classifier_loop(batches_per_epoch=1)\n",
    "\n",
    "PATH =  './'\n",
    "\n",
    "name = 'Constraint_Classifier' +'_'+ str(Classify_Dict['Training_Epochs']) + 'Epochs'\n",
    "\n",
    "T.Save_classifier_model(PATH, name)\n",
    "\n",
    "'''\n",
    "classifier_path = '' \n",
    "\n",
    "T.load_trained_classifier_model(classifier_path)\n",
    "'''"
   ]
  },
  {
   "cell_type": "code",
   "execution_count": 5,
   "id": "cdbc7094",
   "metadata": {},
   "outputs": [
    {
     "name": "stdout",
     "output_type": "stream",
     "text": [
      "Regressor Model Training...\n",
      "Training Regression for Objective: 0\n"
     ]
    },
    {
     "name": "stderr",
     "output_type": "stream",
     "text": [
      "100%|██████████| 10000/10000 [00:06<00:00, 1572.99it/s]\n"
     ]
    },
    {
     "name": "stdout",
     "output_type": "stream",
     "text": [
      "Regression Model Training for Objective 0 Complete!\n",
      "R2 score of Y:0.9881193647385326\n",
      "Training Regression for Objective: 1\n"
     ]
    },
    {
     "name": "stderr",
     "output_type": "stream",
     "text": [
      "100%|██████████| 10000/10000 [00:06<00:00, 1559.49it/s]\n"
     ]
    },
    {
     "name": "stdout",
     "output_type": "stream",
     "text": [
      "Regression Model Training for Objective 1 Complete!\n",
      "R2 score of Y:0.9918173942082282\n",
      "Training Regression for Objective: 2\n"
     ]
    },
    {
     "name": "stderr",
     "output_type": "stream",
     "text": [
      "100%|██████████| 10000/10000 [00:06<00:00, 1567.64it/s]\n"
     ]
    },
    {
     "name": "stdout",
     "output_type": "stream",
     "text": [
      "Regression Model Training for Objective 2 Complete!\n",
      "R2 score of Y:0.9911358795354419\n",
      "Training Regression for Objective: 3\n"
     ]
    },
    {
     "name": "stderr",
     "output_type": "stream",
     "text": [
      "100%|██████████| 10000/10000 [00:06<00:00, 1552.32it/s]\n"
     ]
    },
    {
     "name": "stdout",
     "output_type": "stream",
     "text": [
      "Regression Model Training for Objective 3 Complete!\n",
      "R2 score of Y:0.9914986393799935\n",
      "Training Regression for Objective: 4\n"
     ]
    },
    {
     "name": "stderr",
     "output_type": "stream",
     "text": [
      "100%|██████████| 10000/10000 [00:06<00:00, 1580.12it/s]\n"
     ]
    },
    {
     "name": "stdout",
     "output_type": "stream",
     "text": [
      "Regression Model Training for Objective 4 Complete!\n",
      "R2 score of Y:0.9920400652777145\n",
      "Training Regression for Objective: 5\n"
     ]
    },
    {
     "name": "stderr",
     "output_type": "stream",
     "text": [
      "100%|██████████| 10000/10000 [00:06<00:00, 1540.68it/s]\n"
     ]
    },
    {
     "name": "stdout",
     "output_type": "stream",
     "text": [
      "Regression Model Training for Objective 5 Complete!\n",
      "R2 score of Y:0.8279007539552751\n",
      "Training Regression for Objective: 6\n"
     ]
    },
    {
     "name": "stderr",
     "output_type": "stream",
     "text": [
      "100%|██████████| 10000/10000 [00:06<00:00, 1565.16it/s]"
     ]
    },
    {
     "name": "stdout",
     "output_type": "stream",
     "text": [
      "Regression Model Training for Objective 6 Complete!\n",
      "R2 score of Y:0.926050878203298\n",
      "Regressor Training Complete!\n"
     ]
    },
    {
     "name": "stderr",
     "output_type": "stream",
     "text": [
      "\n"
     ]
    },
    {
     "data": {
      "text/plain": [
       "'Constraint_Classifier_150000Epochs'"
      ]
     },
     "execution_count": 5,
     "metadata": {},
     "output_type": "execute_result"
    }
   ],
   "source": [
    "'''\n",
    "===================================================\n",
    "train regressor\n",
    "==================================================\n",
    "'''\n",
    "T.run_train_regressors_loop(batches_per_epoch=1)\n",
    "\n",
    "PATH =  './'\n",
    "\n",
    "name\n"
   ]
  },
  {
   "cell_type": "code",
   "execution_count": 6,
   "id": "5636a266",
   "metadata": {},
   "outputs": [
    {
     "name": "stdout",
     "output_type": "stream",
     "text": [
      "Denoising Model Training...\n"
     ]
    },
    {
     "name": "stderr",
     "output_type": "stream",
     "text": [
      "  5%|▌         | 5125/100000 [00:08<02:29, 634.83it/s]"
     ]
    },
    {
     "name": "stdout",
     "output_type": "stream",
     "text": [
      "Step 5000/100000 Loss: 0.06560035049915314\n"
     ]
    },
    {
     "name": "stderr",
     "output_type": "stream",
     "text": [
      " 10%|█         | 10079/100000 [00:15<02:21, 637.18it/s]"
     ]
    },
    {
     "name": "stdout",
     "output_type": "stream",
     "text": [
      "Step 10000/100000 Loss: 0.06501168757677078\n"
     ]
    },
    {
     "name": "stderr",
     "output_type": "stream",
     "text": [
      " 15%|█▌        | 15111/100000 [00:24<02:14, 629.03it/s]"
     ]
    },
    {
     "name": "stdout",
     "output_type": "stream",
     "text": [
      "Step 15000/100000 Loss: 0.0594242624938488\n"
     ]
    },
    {
     "name": "stderr",
     "output_type": "stream",
     "text": [
      " 20%|██        | 20095/100000 [00:31<02:05, 634.76it/s]"
     ]
    },
    {
     "name": "stdout",
     "output_type": "stream",
     "text": [
      "Step 20000/100000 Loss: 0.0665987953543663\n"
     ]
    },
    {
     "name": "stderr",
     "output_type": "stream",
     "text": [
      " 25%|██▌       | 25078/100000 [00:39<01:57, 635.70it/s]"
     ]
    },
    {
     "name": "stdout",
     "output_type": "stream",
     "text": [
      "Step 25000/100000 Loss: 0.05529603362083435\n"
     ]
    },
    {
     "name": "stderr",
     "output_type": "stream",
     "text": [
      " 30%|███       | 30065/100000 [00:47<01:50, 633.03it/s]"
     ]
    },
    {
     "name": "stdout",
     "output_type": "stream",
     "text": [
      "Step 30000/100000 Loss: 0.059205763041973114\n"
     ]
    },
    {
     "name": "stderr",
     "output_type": "stream",
     "text": [
      " 35%|███▌      | 35110/100000 [00:55<01:43, 628.46it/s]"
     ]
    },
    {
     "name": "stdout",
     "output_type": "stream",
     "text": [
      "Step 35000/100000 Loss: 0.0495617613196373\n"
     ]
    },
    {
     "name": "stderr",
     "output_type": "stream",
     "text": [
      " 40%|████      | 40094/100000 [01:03<01:34, 633.11it/s]"
     ]
    },
    {
     "name": "stdout",
     "output_type": "stream",
     "text": [
      "Step 40000/100000 Loss: 0.05534721538424492\n"
     ]
    },
    {
     "name": "stderr",
     "output_type": "stream",
     "text": [
      " 45%|████▌     | 45127/100000 [01:11<01:26, 632.15it/s]"
     ]
    },
    {
     "name": "stdout",
     "output_type": "stream",
     "text": [
      "Step 45000/100000 Loss: 0.06997425854206085\n"
     ]
    },
    {
     "name": "stderr",
     "output_type": "stream",
     "text": [
      " 50%|█████     | 50126/100000 [01:19<01:17, 643.16it/s]"
     ]
    },
    {
     "name": "stdout",
     "output_type": "stream",
     "text": [
      "Step 50000/100000 Loss: 0.05402715876698494\n"
     ]
    },
    {
     "name": "stderr",
     "output_type": "stream",
     "text": [
      " 55%|█████▌    | 55079/100000 [01:27<01:10, 638.44it/s]"
     ]
    },
    {
     "name": "stdout",
     "output_type": "stream",
     "text": [
      "Step 55000/100000 Loss: 0.051914066076278687\n"
     ]
    },
    {
     "name": "stderr",
     "output_type": "stream",
     "text": [
      " 60%|██████    | 60088/100000 [01:35<01:03, 625.38it/s]"
     ]
    },
    {
     "name": "stdout",
     "output_type": "stream",
     "text": [
      "Step 60000/100000 Loss: 0.0605313703417778\n"
     ]
    },
    {
     "name": "stderr",
     "output_type": "stream",
     "text": [
      " 65%|██████▌   | 65110/100000 [01:43<00:54, 638.90it/s]"
     ]
    },
    {
     "name": "stdout",
     "output_type": "stream",
     "text": [
      "Step 65000/100000 Loss: 0.05408436805009842\n"
     ]
    },
    {
     "name": "stderr",
     "output_type": "stream",
     "text": [
      " 70%|███████   | 70072/100000 [01:50<00:47, 636.22it/s]"
     ]
    },
    {
     "name": "stdout",
     "output_type": "stream",
     "text": [
      "Step 70000/100000 Loss: 0.062442898750305176\n"
     ]
    },
    {
     "name": "stderr",
     "output_type": "stream",
     "text": [
      " 75%|███████▌  | 75126/100000 [01:59<00:39, 633.34it/s]"
     ]
    },
    {
     "name": "stdout",
     "output_type": "stream",
     "text": [
      "Step 75000/100000 Loss: 0.050897251814603806\n"
     ]
    },
    {
     "name": "stderr",
     "output_type": "stream",
     "text": [
      " 80%|████████  | 80078/100000 [02:06<00:31, 639.35it/s]"
     ]
    },
    {
     "name": "stdout",
     "output_type": "stream",
     "text": [
      "Step 80000/100000 Loss: 0.05279397591948509\n"
     ]
    },
    {
     "name": "stderr",
     "output_type": "stream",
     "text": [
      " 85%|████████▌ | 85106/100000 [02:14<00:23, 636.83it/s]"
     ]
    },
    {
     "name": "stdout",
     "output_type": "stream",
     "text": [
      "Step 85000/100000 Loss: 0.06328960508108139\n"
     ]
    },
    {
     "name": "stderr",
     "output_type": "stream",
     "text": [
      " 90%|█████████ | 90086/100000 [02:22<00:15, 637.21it/s]"
     ]
    },
    {
     "name": "stdout",
     "output_type": "stream",
     "text": [
      "Step 90000/100000 Loss: 0.05833309516310692\n"
     ]
    },
    {
     "name": "stderr",
     "output_type": "stream",
     "text": [
      " 95%|█████████▌| 95100/100000 [02:30<00:07, 637.36it/s]"
     ]
    },
    {
     "name": "stdout",
     "output_type": "stream",
     "text": [
      "Step 95000/100000 Loss: 0.05124145373702049\n"
     ]
    },
    {
     "name": "stderr",
     "output_type": "stream",
     "text": [
      "100%|██████████| 100000/100000 [02:38<00:00, 632.47it/s]"
     ]
    },
    {
     "name": "stdout",
     "output_type": "stream",
     "text": [
      "Step 100000/100000 Loss: 0.05124564841389656\n",
      "Denoising Model Training Complete!\n"
     ]
    },
    {
     "name": "stderr",
     "output_type": "stream",
     "text": [
      "\n"
     ]
    },
    {
     "data": {
      "text/plain": [
       "\"\\ndiffusion_path = './'\\nT.load_trained_diffusion_model(diffusion_path)\\n\""
      ]
     },
     "execution_count": 6,
     "metadata": {},
     "output_type": "execute_result"
    }
   ],
   "source": [
    "'''\n",
    "================================================\n",
    "train diffusion model\n",
    "==================================================\n",
    "'''\n",
    "\n",
    "T.run_train_diffusion_loop(batches_per_epoch=1)\n",
    "\n",
    "\n",
    "PATH =  './'\n",
    "\n",
    "name = folder[:-1]+ '_Constraintguided' +'_'+ str(DDPM_Dict['Training_Epochs']) + 'Epochs'\n",
    "\n",
    "T.Save_diffusion_model(PATH, name)\n",
    "\n",
    "'''\n",
    "diffusion_path = './'\n",
    "T.load_trained_diffusion_model(diffusion_path)\n",
    "'''"
   ]
  },
  {
   "cell_type": "code",
   "execution_count": 7,
   "id": "6e28a456",
   "metadata": {},
   "outputs": [
    {
     "name": "stderr",
     "output_type": "stream",
     "text": [
      "100%|██████████| 800/800 [00:01<00:00, 517.37it/s]\n",
      "100%|██████████| 199/199 [00:00<00:00, 2057.23it/s]\n"
     ]
    }
   ],
   "source": [
    "# Gen Samples:\n",
    "num_samples = 10\n",
    "COND = np.zeros((num_samples,1)) +0.0\n",
    "\n",
    "\n",
    "#COND[:,4] = 1.0\n",
    "\n",
    "weights = GTDT.generate_performance_weights(num_samples,len(T.regressors),gen_type='random')\n",
    "\n",
    "\n",
    "\n",
    "X_gen, unnorm = T.gen_perf_samples(COND,weights)\n",
    "Y_gen = T.Predict_Perf_numpy(X_gen)\n",
    "\n",
    "\n",
    "\n",
    "Y_gen_stats = np.array([np.mean(Y_gen,axis=0), np.std(Y_gen,axis=0)])\n",
    "\n",
    "save_folder = 'HullParam_7Obj/'\n",
    "save_path = './Generated_Samples/'\n",
    "\n",
    "np.save(save_path + save_folder + 'X_gen_7Obj.npy',X_gen)\n",
    "np.save(save_path+save_folder+ 'Y_gen_7Obj_pred.npy', Y_gen)\n",
    "\n",
    "\n",
    "\n"
   ]
  },
  {
   "cell_type": "code",
   "execution_count": 8,
   "id": "ae878966",
   "metadata": {},
   "outputs": [
    {
     "name": "stdout",
     "output_type": "stream",
     "text": [
      "9/10\n"
     ]
    }
   ],
   "source": [
    "'''\n",
    "=======================\n",
    "\n",
    "EVAL SAMPLES\n",
    "\n",
    "========================\n",
    "'''\n",
    "tens = np.zeros((len(X_gen),1))+10\n",
    "\n",
    "x_samples = np.concatenate((tens,X_gen[:,-44:]),axis=-1)\n",
    "\n",
    "# Clean Up the Vectors\n",
    "idx_BBFactors = [33,34,35,36,37]\n",
    "idx_BB = 31\n",
    "\n",
    "idx_SBFactors = [38,39,40,41,42,43,44]\n",
    "idx_SB = 32\n",
    "\n",
    "for i in range(0,len(x_samples)):\n",
    "    \n",
    "    x_samples[i,idx_BB] = (x_samples[i,idx_BB] + 0.5) // 1 #int rounds to 1 or 0\n",
    "    x_samples[i,idx_SB] = (x_samples[i,idx_SB] + 0.5) // 1 #int rounds to 1 or 0\n",
    "    \n",
    "    \n",
    "    x_samples[i,idx_BBFactors] = x_samples[i,idx_BB] * x_samples[i,idx_BBFactors] \n",
    "    x_samples[i,idx_SBFactors] = x_samples[i,idx_SB] * x_samples[i,idx_SBFactors]\n",
    "\n",
    "\n",
    "\n",
    "#Check the constraint violations for the sampled designs\n",
    "constraints = []\n",
    "sum_violation = []\n",
    "cons = []\n",
    "\n",
    "for i in range(0,len(x_samples)):\n",
    "    hull = HP(x_samples[i])\n",
    "    constraints.append(hull.input_Constraints())\n",
    "    cons.append(constraints[i] > 0)\n",
    "    sum_violation.append(sum(cons[i]))\n",
    "    \n",
    "\n",
    "'''\n",
    "Now let's figure out which boats do not have any constraint violations and \n",
    "learn about them\n",
    "\n",
    "\n",
    "'''\n",
    "idx_ZeroCV = [] #going to be a list of boats without violations\n",
    "\n",
    "\n",
    "max_CV = max(sum_violation) \n",
    "\n",
    "count_CV = np.zeros((max_CV+1,))\n",
    "\n",
    "idx_CV = np.zeros((len(cons[0]),))\n",
    "\n",
    "Avg_CV = np.mean(sum_violation)\n",
    "\n",
    "for i in range(0,len(sum_violation)):\n",
    "    count_CV[sum_violation[i]] +=1\n",
    "    if sum_violation[i] == 0:\n",
    "        idx_ZeroCV.append(i)\n",
    "\n",
    "cons = np.array(cons)\n",
    "for i in range(0,len(cons[0])):\n",
    "    idx_CV[i] = sum(cons[:,i])\n",
    "\n",
    "\n",
    "\n",
    "print(str(int(count_CV[0])) + '/' + str(num_samples))\n",
    "\n"
   ]
  },
  {
   "cell_type": "code",
   "execution_count": 9,
   "id": "578edf4e",
   "metadata": {},
   "outputs": [
    {
     "name": "stdout",
     "output_type": "stream",
     "text": [
      "[[-73.40448     -1.7150079   -1.0859978    4.7820187    3.8042588\n",
      "   -0.40720683   2.4361162 ]\n",
      " [ 17.37735      0.5347935    0.44507143   0.80843306   0.6153565\n",
      "    0.09936365   0.5294481 ]]\n",
      "[[-92.61987     -2.0642245   -1.4398849    5.428467     4.333011\n",
      "   -0.4380344    2.5875573 ]\n",
      " [ 13.220052     0.23573256   0.27491105   0.69523495   0.5971223\n",
      "    0.04508397   0.20812511]]\n"
     ]
    }
   ],
   "source": [
    "print(Y_stats)\n",
    "\n",
    "print(Y_gen_stats)\n"
   ]
  },
  {
   "cell_type": "code",
   "execution_count": 10,
   "id": "9545f342",
   "metadata": {},
   "outputs": [
    {
     "data": {
      "image/png": "[encoded data removed]",
      "text/plain": [
       "<Figure size 560x560 with 1 Axes>"
      ]
     },
     "metadata": {},
     "output_type": "display_data"
    }
   ],
   "source": [
    "\n",
    "'''\n",
    "NOW LETS DO A PCA\n",
    "'''\n",
    "\n",
    "pca = PCA(n_components = 2)\n",
    "\n",
    "pca.fit(X)\n",
    "\n",
    "A = np.random.randint(0,len(X),100)\n",
    "B = np.random.randint(0,len(X_gen),100)\n",
    "\n",
    "components_dataset = pca.transform(X[A])\n",
    "\n",
    "components_gen = pca.transform(X_gen[B])\n",
    "\n",
    "# Lets Plot PCA\n",
    "\n",
    "title = 'PCA Distribution Dataset Parameters and Generated Parameters'\n",
    "\n",
    "fig, axs = plt.subplots(1, 1, figsize=(3.5,3.5), dpi=160)\n",
    "\n",
    "#plt.xlim(0,2000)\n",
    "\n",
    "axs.spines[\"right\"].set_visible(False)\n",
    "\n",
    "axs.spines[\"top\"].set_visible(False)\n",
    "\n",
    "plt.rcParams['font.size'] = '10'       \n",
    "\n",
    "axs.set_title(title, fontsize=10)\n",
    "\n",
    "plt.xlabel('X0', fontsize = 10)\n",
    "\n",
    "plt.ylabel('X1', fontsize = 10)\n",
    "\n",
    "axs.plot(components_dataset[:,0], components_dataset[:,1], 'o', color = 'red', label = 'Dataset')\n",
    "\n",
    "axs.plot(components_gen[:,0], components_gen[:,1], 'o', color = 'blue', label = 'X_gen')\n",
    "\n",
    "      \n",
    "\n",
    "plt.legend(fontsize = 6, loc = 'upper right')\n",
    "\n",
    "plt.show()"
   ]
  },
  {
   "cell_type": "code",
   "execution_count": null,
   "id": "a3181694",
   "metadata": {},
   "outputs": [],
   "source": []
  },
  {
   "cell_type": "code",
   "execution_count": null,
   "id": "0cba00f9",
   "metadata": {},
   "outputs": [],
   "source": []
  },
  {
   "cell_type": "code",
   "execution_count": null,
   "id": "fede162c",
   "metadata": {},
   "outputs": [],
   "source": []
  }
 ],
 "metadata": {
  "kernelspec": {
   "display_name": "Python 3 (ipykernel)",
   "language": "python",
   "name": "python3"
  },
  "language_info": {
   "codemirror_mode": {
    "name": "ipython",
    "version": 3
   },
   "file_extension": ".py",
   "mimetype": "text/x-python",
   "name": "python",
   "nbconvert_exporter": "python",
   "pygments_lexer": "ipython3",
   "version": "3.11.4"
  }
 },
 "nbformat": 4,
 "nbformat_minor": 5
}
